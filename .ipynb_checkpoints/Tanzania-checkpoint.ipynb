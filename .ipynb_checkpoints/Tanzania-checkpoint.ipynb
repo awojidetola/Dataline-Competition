{
 "cells": [
  {
   "cell_type": "markdown",
   "metadata": {},
   "source": [
    "# Analyzing Tourism in Tanzania"
   ]
  },
  {
   "cell_type": "markdown",
   "metadata": {},
   "source": [
    "<a id='intro'></a>\n",
    "\n",
    "### Background Study\n",
    "\n",
    "Tourism plays a significant role in Tanzania's economy. The country has several tourist sights with about 38% of the land area set aside for conservation. It is the only country in the world that has allocated more than 25% of its total area for Wildlife, National Parks and Protected Areas. The country has 16 national partks,  44 game controlled areas, 28 game reserves, 2 marine parks and one conservation area. The highest mountain in Africa, Mount Kilimanjara is also found in Tanzania.\n",
    "\n",
    "The tourism sector contributes approximately 17% of the country's GDP and 25% of all the foreign exchange revenues. This sector creates job oppurtunities for over 600,000 people directly and up to 2 million people indirectly. The revenue generated from Tourism has seen rapid increase over the years. The number of tourist arrivals has increased from about 500,000 in 2000 to over 1.1 million international visitors in 2014 mostly from Europe, US and Africa. Based on the govermnet's statistics, Tourism generated approximately 2.4 billion dollars in 2018."
   ]
  },
  {
   "cell_type": "markdown",
   "metadata": {},
   "source": [
    "<a id='objdata'></a>\n",
    "\n",
    "\n",
    "### Objective\n",
    "\n",
    "The objective of this competition is to explore and build a linear regression model that will predict the spending behaivior of tourists visiting Tanzania.The model can be used by different tour operators and the Tanzania Tourism Board to automatically help tourists across the world estimate their expenditure before visiting Tanzania. \n",
    "\n",
    "### Data\n",
    "\n",
    "The dataset describes 6476 rows of up-to-date information on tourist expenditure collected by the National Bureau of Statistics (NBS) in Tanzania.The dataset was collected to gain a better understanding of the status of the tourism sector and provide an instrument that will enable sector growth.\n",
    "The survey covers seven departure points, namely: Julius Nyerere International Airport, Kilimanjaro International Airport, Abeid Amani Karume International Airport, and the Namanga, Tunduma, Mtukula and Manyovu border points.\n"
   ]
  },
  {
   "cell_type": "markdown",
   "metadata": {},
   "source": [
    "## Table of Contents\n",
    "<ul>\n",
    "<li><a href=\"#intro\">Bacground Study</a></li>\n",
    "<li><a href=\"#objdata\">Objective and Data</a></li>    \n",
    "<li><a href=\"#import\">Importing the Necessary Libraries and Data</a></li>\n",
    "<li><a href=\"#observe\">Data Overview</a></li>\n",
    "    \n",
    "</ul>\n"
   ]
  },
  {
   "cell_type": "markdown",
   "metadata": {},
   "source": [
    "<a id='import'></a>\n",
    "\n",
    "### Importing Necessary Libraries and Data"
   ]
  },
  {
   "cell_type": "code",
   "execution_count": 169,
   "metadata": {},
   "outputs": [],
   "source": [
    "import pandas as pd\n",
    "import numpy as np\n",
    "import matplotlib.pyplot as plt\n",
    "import seaborn as sns\n",
    "import math \n",
    "import scipy\n",
    "\n",
    "from sklearn.linear_model import LinearRegression\n",
    "from sklearn.model_selection import train_test_split\n",
    "from sklearn.preprocessing import StandardScaler, MinMaxScaler, RobustScaler\n",
    "from sklearn.metrics import r2_score, mean_absolute_error, mean_squared_error\n",
    "from sklearn.model_selection import cross_val_score\n",
    "import scipy.stats as stats\n",
    "\n",
    "import warnings\n",
    "warnings.filterwarnings(\"ignore\")"
   ]
  },
  {
   "cell_type": "code",
   "execution_count": 170,
   "metadata": {},
   "outputs": [],
   "source": [
    "df = pd.read_csv(\"Train .csv\")\n",
    "df_test = pd.read_csv(\"Test .csv\")\n",
    "definitions = pd.read_csv(\"VariableDefinitions.csv\")"
   ]
  },
  {
   "cell_type": "markdown",
   "metadata": {},
   "source": [
    "<a id='observe'></a>\n",
    "\n",
    "### Data Overview"
   ]
  },
  {
   "cell_type": "code",
   "execution_count": 171,
   "metadata": {},
   "outputs": [
    {
     "data": {
      "text/html": [
       "<div>\n",
       "<style scoped>\n",
       "    .dataframe tbody tr th:only-of-type {\n",
       "        vertical-align: middle;\n",
       "    }\n",
       "\n",
       "    .dataframe tbody tr th {\n",
       "        vertical-align: top;\n",
       "    }\n",
       "\n",
       "    .dataframe thead th {\n",
       "        text-align: right;\n",
       "    }\n",
       "</style>\n",
       "<table border=\"1\" class=\"dataframe\">\n",
       "  <thead>\n",
       "    <tr style=\"text-align: right;\">\n",
       "      <th></th>\n",
       "      <th>ID</th>\n",
       "      <th>country</th>\n",
       "      <th>age_group</th>\n",
       "      <th>travel_with</th>\n",
       "      <th>total_female</th>\n",
       "      <th>total_male</th>\n",
       "      <th>purpose</th>\n",
       "      <th>main_activity</th>\n",
       "      <th>info_source</th>\n",
       "      <th>tour_arrangement</th>\n",
       "      <th>...</th>\n",
       "      <th>package_transport_tz</th>\n",
       "      <th>package_sightseeing</th>\n",
       "      <th>package_guided_tour</th>\n",
       "      <th>package_insurance</th>\n",
       "      <th>night_mainland</th>\n",
       "      <th>night_zanzibar</th>\n",
       "      <th>payment_mode</th>\n",
       "      <th>first_trip_tz</th>\n",
       "      <th>most_impressing</th>\n",
       "      <th>total_cost</th>\n",
       "    </tr>\n",
       "  </thead>\n",
       "  <tbody>\n",
       "    <tr>\n",
       "      <th>0</th>\n",
       "      <td>tour_0</td>\n",
       "      <td>SWIZERLAND</td>\n",
       "      <td>45-64</td>\n",
       "      <td>Friends/Relatives</td>\n",
       "      <td>1.0</td>\n",
       "      <td>1.0</td>\n",
       "      <td>Leisure and Holidays</td>\n",
       "      <td>Wildlife tourism</td>\n",
       "      <td>Friends, relatives</td>\n",
       "      <td>Independent</td>\n",
       "      <td>...</td>\n",
       "      <td>No</td>\n",
       "      <td>No</td>\n",
       "      <td>No</td>\n",
       "      <td>No</td>\n",
       "      <td>13.0</td>\n",
       "      <td>0.0</td>\n",
       "      <td>Cash</td>\n",
       "      <td>No</td>\n",
       "      <td>Friendly People</td>\n",
       "      <td>674602.5</td>\n",
       "    </tr>\n",
       "    <tr>\n",
       "      <th>1</th>\n",
       "      <td>tour_10</td>\n",
       "      <td>UNITED KINGDOM</td>\n",
       "      <td>25-44</td>\n",
       "      <td>NaN</td>\n",
       "      <td>1.0</td>\n",
       "      <td>0.0</td>\n",
       "      <td>Leisure and Holidays</td>\n",
       "      <td>Cultural tourism</td>\n",
       "      <td>others</td>\n",
       "      <td>Independent</td>\n",
       "      <td>...</td>\n",
       "      <td>No</td>\n",
       "      <td>No</td>\n",
       "      <td>No</td>\n",
       "      <td>No</td>\n",
       "      <td>14.0</td>\n",
       "      <td>7.0</td>\n",
       "      <td>Cash</td>\n",
       "      <td>Yes</td>\n",
       "      <td>Wonderful Country, Landscape, Nature</td>\n",
       "      <td>3214906.5</td>\n",
       "    </tr>\n",
       "  </tbody>\n",
       "</table>\n",
       "<p>2 rows × 23 columns</p>\n",
       "</div>"
      ],
      "text/plain": [
       "        ID         country age_group        travel_with  total_female  \\\n",
       "0   tour_0      SWIZERLAND     45-64  Friends/Relatives           1.0   \n",
       "1  tour_10  UNITED KINGDOM     25-44                NaN           1.0   \n",
       "\n",
       "   total_male               purpose     main_activity         info_source  \\\n",
       "0         1.0  Leisure and Holidays  Wildlife tourism  Friends, relatives   \n",
       "1         0.0  Leisure and Holidays  Cultural tourism              others   \n",
       "\n",
       "  tour_arrangement  ... package_transport_tz package_sightseeing  \\\n",
       "0      Independent  ...                   No                  No   \n",
       "1      Independent  ...                   No                  No   \n",
       "\n",
       "  package_guided_tour package_insurance night_mainland night_zanzibar  \\\n",
       "0                  No                No           13.0            0.0   \n",
       "1                  No                No           14.0            7.0   \n",
       "\n",
       "  payment_mode  first_trip_tz                       most_impressing total_cost  \n",
       "0         Cash             No                       Friendly People   674602.5  \n",
       "1         Cash            Yes  Wonderful Country, Landscape, Nature  3214906.5  \n",
       "\n",
       "[2 rows x 23 columns]"
      ]
     },
     "execution_count": 171,
     "metadata": {},
     "output_type": "execute_result"
    }
   ],
   "source": [
    "df.head(2)"
   ]
  },
  {
   "cell_type": "code",
   "execution_count": 172,
   "metadata": {},
   "outputs": [
    {
     "data": {
      "text/html": [
       "<div>\n",
       "<style scoped>\n",
       "    .dataframe tbody tr th:only-of-type {\n",
       "        vertical-align: middle;\n",
       "    }\n",
       "\n",
       "    .dataframe tbody tr th {\n",
       "        vertical-align: top;\n",
       "    }\n",
       "\n",
       "    .dataframe thead th {\n",
       "        text-align: right;\n",
       "    }\n",
       "</style>\n",
       "<table border=\"1\" class=\"dataframe\">\n",
       "  <thead>\n",
       "    <tr style=\"text-align: right;\">\n",
       "      <th></th>\n",
       "      <th>ID</th>\n",
       "      <th>country</th>\n",
       "      <th>age_group</th>\n",
       "      <th>travel_with</th>\n",
       "      <th>total_female</th>\n",
       "      <th>total_male</th>\n",
       "      <th>purpose</th>\n",
       "      <th>main_activity</th>\n",
       "      <th>info_source</th>\n",
       "      <th>tour_arrangement</th>\n",
       "      <th>...</th>\n",
       "      <th>package_food</th>\n",
       "      <th>package_transport_tz</th>\n",
       "      <th>package_sightseeing</th>\n",
       "      <th>package_guided_tour</th>\n",
       "      <th>package_insurance</th>\n",
       "      <th>night_mainland</th>\n",
       "      <th>night_zanzibar</th>\n",
       "      <th>payment_mode</th>\n",
       "      <th>first_trip_tz</th>\n",
       "      <th>most_impressing</th>\n",
       "    </tr>\n",
       "  </thead>\n",
       "  <tbody>\n",
       "    <tr>\n",
       "      <th>0</th>\n",
       "      <td>tour_1</td>\n",
       "      <td>AUSTRALIA</td>\n",
       "      <td>45-64</td>\n",
       "      <td>Spouse</td>\n",
       "      <td>1.0</td>\n",
       "      <td>1.0</td>\n",
       "      <td>Leisure and Holidays</td>\n",
       "      <td>Wildlife tourism</td>\n",
       "      <td>Travel, agent, tour operator</td>\n",
       "      <td>Package Tour</td>\n",
       "      <td>...</td>\n",
       "      <td>Yes</td>\n",
       "      <td>Yes</td>\n",
       "      <td>Yes</td>\n",
       "      <td>Yes</td>\n",
       "      <td>Yes</td>\n",
       "      <td>10</td>\n",
       "      <td>3</td>\n",
       "      <td>Cash</td>\n",
       "      <td>Yes</td>\n",
       "      <td>Wildlife</td>\n",
       "    </tr>\n",
       "    <tr>\n",
       "      <th>1</th>\n",
       "      <td>tour_100</td>\n",
       "      <td>SOUTH AFRICA</td>\n",
       "      <td>25-44</td>\n",
       "      <td>Friends/Relatives</td>\n",
       "      <td>0.0</td>\n",
       "      <td>4.0</td>\n",
       "      <td>Business</td>\n",
       "      <td>Wildlife tourism</td>\n",
       "      <td>Tanzania Mission Abroad</td>\n",
       "      <td>Package Tour</td>\n",
       "      <td>...</td>\n",
       "      <td>No</td>\n",
       "      <td>No</td>\n",
       "      <td>No</td>\n",
       "      <td>No</td>\n",
       "      <td>No</td>\n",
       "      <td>13</td>\n",
       "      <td>0</td>\n",
       "      <td>Cash</td>\n",
       "      <td>No</td>\n",
       "      <td>Wonderful Country, Landscape, Nature</td>\n",
       "    </tr>\n",
       "  </tbody>\n",
       "</table>\n",
       "<p>2 rows × 22 columns</p>\n",
       "</div>"
      ],
      "text/plain": [
       "         ID       country age_group        travel_with  total_female  \\\n",
       "0    tour_1     AUSTRALIA     45-64             Spouse           1.0   \n",
       "1  tour_100  SOUTH AFRICA     25-44  Friends/Relatives           0.0   \n",
       "\n",
       "   total_male               purpose     main_activity  \\\n",
       "0         1.0  Leisure and Holidays  Wildlife tourism   \n",
       "1         4.0              Business  Wildlife tourism   \n",
       "\n",
       "                    info_source tour_arrangement  ... package_food  \\\n",
       "0  Travel, agent, tour operator     Package Tour  ...          Yes   \n",
       "1       Tanzania Mission Abroad     Package Tour  ...           No   \n",
       "\n",
       "  package_transport_tz package_sightseeing package_guided_tour  \\\n",
       "0                  Yes                 Yes                 Yes   \n",
       "1                   No                  No                  No   \n",
       "\n",
       "  package_insurance night_mainland night_zanzibar  payment_mode  \\\n",
       "0               Yes             10              3          Cash   \n",
       "1                No             13              0          Cash   \n",
       "\n",
       "   first_trip_tz                       most_impressing  \n",
       "0            Yes                              Wildlife  \n",
       "1             No  Wonderful Country, Landscape, Nature  \n",
       "\n",
       "[2 rows x 22 columns]"
      ]
     },
     "execution_count": 172,
     "metadata": {},
     "output_type": "execute_result"
    }
   ],
   "source": [
    "df_test.head(2)"
   ]
  },
  {
   "cell_type": "code",
   "execution_count": 173,
   "metadata": {},
   "outputs": [
    {
     "name": "stdout",
     "output_type": "stream",
     "text": [
      "There are 4809 rows and 23 columns in the train dataset\n",
      "There are 1601 rows and 22 columns in the test dataset\n"
     ]
    }
   ],
   "source": [
    "print (f\"There are {df.shape[0]} rows and {df.shape[1]} columns in the train dataset\")\n",
    "print (f\"There are {df_test.shape[0]} rows and {df_test.shape[1]} columns in the test dataset\")\n",
    "# As expected, the test dataset is short by one column : Total Cost (the dependent variable)"
   ]
  },
  {
   "cell_type": "code",
   "execution_count": 174,
   "metadata": {
    "scrolled": true
   },
   "outputs": [
    {
     "name": "stdout",
     "output_type": "stream",
     "text": [
      "There are 0 duplicates in the train data and 0 duplicates in the test data\n"
     ]
    }
   ],
   "source": [
    "#Checking for duplicated Entries\n",
    "print (f\"There are {df.duplicated().sum()} duplicates in the train data and {df_test.duplicated().sum()} duplicates in the test data\")"
   ]
  },
  {
   "cell_type": "code",
   "execution_count": 175,
   "metadata": {},
   "outputs": [
    {
     "data": {
      "text/plain": [
       "Index(['ID', 'country', 'age_group', 'travel_with', 'total_female',\n",
       "       'total_male', 'purpose', 'main_activity', 'info_source',\n",
       "       'tour_arrangement', 'package_transport_int', 'package_accomodation',\n",
       "       'package_food', 'package_transport_tz', 'package_sightseeing',\n",
       "       'package_guided_tour', 'package_insurance', 'night_mainland',\n",
       "       'night_zanzibar', 'payment_mode', 'first_trip_tz', 'most_impressing',\n",
       "       'total_cost'],\n",
       "      dtype='object')"
      ]
     },
     "execution_count": 175,
     "metadata": {},
     "output_type": "execute_result"
    }
   ],
   "source": [
    "df.columns"
   ]
  },
  {
   "cell_type": "code",
   "execution_count": 176,
   "metadata": {},
   "outputs": [
    {
     "data": {
      "text/plain": [
       "Index(['ID', 'country', 'age_group', 'travel_with', 'total_female',\n",
       "       'total_male', 'purpose', 'main_activity', 'info_source',\n",
       "       'tour_arrangement', 'package_transport_int', 'package_accomodation',\n",
       "       'package_food', 'package_transport_tz', 'package_sightseeing',\n",
       "       'package_guided_tour', 'package_insurance', 'night_mainland',\n",
       "       'night_zanzibar', 'payment_mode', 'first_trip_tz', 'most_impressing'],\n",
       "      dtype='object')"
      ]
     },
     "execution_count": 176,
     "metadata": {},
     "output_type": "execute_result"
    }
   ],
   "source": [
    "df_test.columns"
   ]
  },
  {
   "cell_type": "code",
   "execution_count": 177,
   "metadata": {},
   "outputs": [
    {
     "data": {
      "text/plain": [
       "ID                        object\n",
       "country                   object\n",
       "age_group                 object\n",
       "travel_with               object\n",
       "total_female             float64\n",
       "total_male               float64\n",
       "purpose                   object\n",
       "main_activity             object\n",
       "info_source               object\n",
       "tour_arrangement          object\n",
       "package_transport_int     object\n",
       "package_accomodation      object\n",
       "package_food              object\n",
       "package_transport_tz      object\n",
       "package_sightseeing       object\n",
       "package_guided_tour       object\n",
       "package_insurance         object\n",
       "night_mainland           float64\n",
       "night_zanzibar           float64\n",
       "payment_mode              object\n",
       "first_trip_tz             object\n",
       "most_impressing           object\n",
       "total_cost               float64\n",
       "dtype: object"
      ]
     },
     "execution_count": 177,
     "metadata": {},
     "output_type": "execute_result"
    }
   ],
   "source": [
    "df.dtypes"
   ]
  },
  {
   "cell_type": "code",
   "execution_count": 178,
   "metadata": {},
   "outputs": [
    {
     "data": {
      "text/plain": [
       "ID                        object\n",
       "country                   object\n",
       "age_group                 object\n",
       "travel_with               object\n",
       "total_female             float64\n",
       "total_male               float64\n",
       "purpose                   object\n",
       "main_activity             object\n",
       "info_source               object\n",
       "tour_arrangement          object\n",
       "package_transport_int     object\n",
       "package_accomodation      object\n",
       "package_food              object\n",
       "package_transport_tz      object\n",
       "package_sightseeing       object\n",
       "package_guided_tour       object\n",
       "package_insurance         object\n",
       "night_mainland             int64\n",
       "night_zanzibar             int64\n",
       "payment_mode              object\n",
       "first_trip_tz             object\n",
       "most_impressing           object\n",
       "dtype: object"
      ]
     },
     "execution_count": 178,
     "metadata": {},
     "output_type": "execute_result"
    }
   ],
   "source": [
    "df_test.dtypes"
   ]
  },
  {
   "cell_type": "code",
   "execution_count": 179,
   "metadata": {},
   "outputs": [
    {
     "name": "stdout",
     "output_type": "stream",
     "text": [
      "<class 'pandas.core.frame.DataFrame'>\n",
      "RangeIndex: 4809 entries, 0 to 4808\n",
      "Data columns (total 23 columns):\n",
      " #   Column                 Non-Null Count  Dtype  \n",
      "---  ------                 --------------  -----  \n",
      " 0   ID                     4809 non-null   object \n",
      " 1   country                4809 non-null   object \n",
      " 2   age_group              4809 non-null   object \n",
      " 3   travel_with            3695 non-null   object \n",
      " 4   total_female           4806 non-null   float64\n",
      " 5   total_male             4804 non-null   float64\n",
      " 6   purpose                4809 non-null   object \n",
      " 7   main_activity          4809 non-null   object \n",
      " 8   info_source            4809 non-null   object \n",
      " 9   tour_arrangement       4809 non-null   object \n",
      " 10  package_transport_int  4809 non-null   object \n",
      " 11  package_accomodation   4809 non-null   object \n",
      " 12  package_food           4809 non-null   object \n",
      " 13  package_transport_tz   4809 non-null   object \n",
      " 14  package_sightseeing    4809 non-null   object \n",
      " 15  package_guided_tour    4809 non-null   object \n",
      " 16  package_insurance      4809 non-null   object \n",
      " 17  night_mainland         4809 non-null   float64\n",
      " 18  night_zanzibar         4809 non-null   float64\n",
      " 19  payment_mode           4809 non-null   object \n",
      " 20  first_trip_tz          4809 non-null   object \n",
      " 21  most_impressing        4496 non-null   object \n",
      " 22  total_cost             4809 non-null   float64\n",
      "dtypes: float64(5), object(18)\n",
      "memory usage: 864.2+ KB\n"
     ]
    }
   ],
   "source": [
    "df.info()"
   ]
  },
  {
   "cell_type": "code",
   "execution_count": 180,
   "metadata": {},
   "outputs": [
    {
     "name": "stdout",
     "output_type": "stream",
     "text": [
      "<class 'pandas.core.frame.DataFrame'>\n",
      "RangeIndex: 1601 entries, 0 to 1600\n",
      "Data columns (total 22 columns):\n",
      " #   Column                 Non-Null Count  Dtype  \n",
      "---  ------                 --------------  -----  \n",
      " 0   ID                     1601 non-null   object \n",
      " 1   country                1601 non-null   object \n",
      " 2   age_group              1601 non-null   object \n",
      " 3   travel_with            1274 non-null   object \n",
      " 4   total_female           1600 non-null   float64\n",
      " 5   total_male             1599 non-null   float64\n",
      " 6   purpose                1601 non-null   object \n",
      " 7   main_activity          1601 non-null   object \n",
      " 8   info_source            1601 non-null   object \n",
      " 9   tour_arrangement       1601 non-null   object \n",
      " 10  package_transport_int  1601 non-null   object \n",
      " 11  package_accomodation   1601 non-null   object \n",
      " 12  package_food           1601 non-null   object \n",
      " 13  package_transport_tz   1601 non-null   object \n",
      " 14  package_sightseeing    1601 non-null   object \n",
      " 15  package_guided_tour    1601 non-null   object \n",
      " 16  package_insurance      1601 non-null   object \n",
      " 17  night_mainland         1601 non-null   int64  \n",
      " 18  night_zanzibar         1601 non-null   int64  \n",
      " 19  payment_mode           1601 non-null   object \n",
      " 20  first_trip_tz          1601 non-null   object \n",
      " 21  most_impressing        1490 non-null   object \n",
      "dtypes: float64(2), int64(2), object(18)\n",
      "memory usage: 275.3+ KB\n"
     ]
    }
   ],
   "source": [
    "df_test.info()"
   ]
  },
  {
   "cell_type": "code",
   "execution_count": 181,
   "metadata": {},
   "outputs": [
    {
     "data": {
      "text/html": [
       "<div>\n",
       "<style scoped>\n",
       "    .dataframe tbody tr th:only-of-type {\n",
       "        vertical-align: middle;\n",
       "    }\n",
       "\n",
       "    .dataframe tbody tr th {\n",
       "        vertical-align: top;\n",
       "    }\n",
       "\n",
       "    .dataframe thead th {\n",
       "        text-align: right;\n",
       "    }\n",
       "</style>\n",
       "<table border=\"1\" class=\"dataframe\">\n",
       "  <thead>\n",
       "    <tr style=\"text-align: right;\">\n",
       "      <th></th>\n",
       "      <th>Column Name</th>\n",
       "      <th>Definition</th>\n",
       "    </tr>\n",
       "  </thead>\n",
       "  <tbody>\n",
       "    <tr>\n",
       "      <th>0</th>\n",
       "      <td>id</td>\n",
       "      <td>Unique identifier for each tourist</td>\n",
       "    </tr>\n",
       "    <tr>\n",
       "      <th>1</th>\n",
       "      <td>country</td>\n",
       "      <td>The country a tourist coming  from.</td>\n",
       "    </tr>\n",
       "    <tr>\n",
       "      <th>2</th>\n",
       "      <td>age_group</td>\n",
       "      <td>The age group of a tourist.</td>\n",
       "    </tr>\n",
       "    <tr>\n",
       "      <th>3</th>\n",
       "      <td>travel_with</td>\n",
       "      <td>The relation of people a tourist travel with t...</td>\n",
       "    </tr>\n",
       "    <tr>\n",
       "      <th>4</th>\n",
       "      <td>total_female</td>\n",
       "      <td>Total number of females</td>\n",
       "    </tr>\n",
       "    <tr>\n",
       "      <th>5</th>\n",
       "      <td>total_male</td>\n",
       "      <td>Total number of males</td>\n",
       "    </tr>\n",
       "    <tr>\n",
       "      <th>6</th>\n",
       "      <td>purpose</td>\n",
       "      <td>The purpose of visiting  Tanzania</td>\n",
       "    </tr>\n",
       "    <tr>\n",
       "      <th>7</th>\n",
       "      <td>main_activity</td>\n",
       "      <td>The main activity of tourism in Tanzania</td>\n",
       "    </tr>\n",
       "    <tr>\n",
       "      <th>8</th>\n",
       "      <td>infor_source</td>\n",
       "      <td>The source of information about tourism in Tan...</td>\n",
       "    </tr>\n",
       "    <tr>\n",
       "      <th>9</th>\n",
       "      <td>tour_arrangment</td>\n",
       "      <td>The arrangment of visiting Tanzania</td>\n",
       "    </tr>\n",
       "    <tr>\n",
       "      <th>10</th>\n",
       "      <td>package_transport_int</td>\n",
       "      <td>If the tour package include international tran...</td>\n",
       "    </tr>\n",
       "    <tr>\n",
       "      <th>11</th>\n",
       "      <td>package_accomodation</td>\n",
       "      <td>If the tour package include accommodation service</td>\n",
       "    </tr>\n",
       "    <tr>\n",
       "      <th>12</th>\n",
       "      <td>package_food</td>\n",
       "      <td>If the tour package include food service</td>\n",
       "    </tr>\n",
       "    <tr>\n",
       "      <th>13</th>\n",
       "      <td>package_transport_tz</td>\n",
       "      <td>If the tour package include transport service ...</td>\n",
       "    </tr>\n",
       "    <tr>\n",
       "      <th>14</th>\n",
       "      <td>package_sightseeing</td>\n",
       "      <td>If the tour package include sightseeing service</td>\n",
       "    </tr>\n",
       "    <tr>\n",
       "      <th>15</th>\n",
       "      <td>package_guided_tour</td>\n",
       "      <td>If the tour package include tour guide</td>\n",
       "    </tr>\n",
       "    <tr>\n",
       "      <th>16</th>\n",
       "      <td>package_insurance</td>\n",
       "      <td>if the tour package include insurance service</td>\n",
       "    </tr>\n",
       "    <tr>\n",
       "      <th>17</th>\n",
       "      <td>night_mainland</td>\n",
       "      <td>Number of nights a tourist spent in Tanzania m...</td>\n",
       "    </tr>\n",
       "    <tr>\n",
       "      <th>18</th>\n",
       "      <td>night_zanzibar</td>\n",
       "      <td>Number of nights a tourist spent in Zanzibar</td>\n",
       "    </tr>\n",
       "    <tr>\n",
       "      <th>19</th>\n",
       "      <td>payment_mode</td>\n",
       "      <td>The mode of payment for tourism service</td>\n",
       "    </tr>\n",
       "    <tr>\n",
       "      <th>20</th>\n",
       "      <td>first_trip_tz</td>\n",
       "      <td>If it was a first  trip to Tanzania</td>\n",
       "    </tr>\n",
       "    <tr>\n",
       "      <th>21</th>\n",
       "      <td>most_impressing</td>\n",
       "      <td>what impressed a toursit in Tanzania</td>\n",
       "    </tr>\n",
       "    <tr>\n",
       "      <th>22</th>\n",
       "      <td>total_cost</td>\n",
       "      <td>The total tourist expenditure  in TZS(currency)</td>\n",
       "    </tr>\n",
       "  </tbody>\n",
       "</table>\n",
       "</div>"
      ],
      "text/plain": [
       "              Column Name                                         Definition\n",
       "0                      id                 Unique identifier for each tourist\n",
       "1                 country                The country a tourist coming  from.\n",
       "2               age_group                        The age group of a tourist.\n",
       "3             travel_with  The relation of people a tourist travel with t...\n",
       "4            total_female                            Total number of females\n",
       "5              total_male                              Total number of males\n",
       "6                 purpose                  The purpose of visiting  Tanzania\n",
       "7           main_activity           The main activity of tourism in Tanzania\n",
       "8            infor_source  The source of information about tourism in Tan...\n",
       "9         tour_arrangment                The arrangment of visiting Tanzania\n",
       "10  package_transport_int  If the tour package include international tran...\n",
       "11   package_accomodation  If the tour package include accommodation service\n",
       "12           package_food           If the tour package include food service\n",
       "13   package_transport_tz  If the tour package include transport service ...\n",
       "14    package_sightseeing    If the tour package include sightseeing service\n",
       "15    package_guided_tour             If the tour package include tour guide\n",
       "16      package_insurance      if the tour package include insurance service\n",
       "17         night_mainland  Number of nights a tourist spent in Tanzania m...\n",
       "18         night_zanzibar       Number of nights a tourist spent in Zanzibar\n",
       "19           payment_mode            The mode of payment for tourism service\n",
       "20          first_trip_tz                If it was a first  trip to Tanzania\n",
       "21        most_impressing               what impressed a toursit in Tanzania\n",
       "22             total_cost    The total tourist expenditure  in TZS(currency)"
      ]
     },
     "execution_count": 181,
     "metadata": {},
     "output_type": "execute_result"
    }
   ],
   "source": [
    "definitions"
   ]
  },
  {
   "cell_type": "markdown",
   "metadata": {},
   "source": [
    "### Exploratory Data Analysis\n",
    "\n",
    "Exploratory Data Analysis is conducted to better understand the data, generate insights as well as discover patters in the data. The following questions are explored:\n",
    "\n",
    "**Questions**:\n",
    "\n",
    "1. What are the top 5 countries with highest spending statistic?\n",
    "2. Which age group has the highest spenders?\n",
    "3. Who are the overall highest spenders by travel with?\n",
    "4. What is the average number of nights a tourist spends in Tanzania Mainland?\n",
    "5. What is the average number of nights a tourist spends in Tanzania Zanzibar?\n",
    "6. What is the most preferred payment mode by tourists?\n",
    "7. Which country has the most spending tourists?\n",
    "8. Highlight the aspects of tourism that are more profitable and worthwhile to invest in?\n",
    "9. What is the most sought after food by tourists?\n",
    "10. What is the popular purpose for tourism and which has the highest average cost?\n",
    "11. Do tourists who opt for the tourism packages spend more than those who don't and which package influences costs most?\n",
    "12. Which tour arrangement do tourists typically spend more on?\n",
    "13. On average, do tourists spend more on their first trip?"
   ]
  },
  {
   "cell_type": "markdown",
   "metadata": {},
   "source": [
    "**What are the top 5 countries with highest spending statistic?**\n",
    "\n",
    "The country that spends the most in its tour of Tanzania is Dominica, spending over 33.15 million Tanzanian currency, followed by Costarica, Slovenia, Tunisia and Austrialia."
   ]
  },
  {
   "cell_type": "code",
   "execution_count": 182,
   "metadata": {},
   "outputs": [
    {
     "data": {
      "text/plain": [
       "country\n",
       "DOMINICA     3.315000e+07\n",
       "COSTARICA    2.718300e+07\n",
       "SLOVENIA     1.906237e+07\n",
       "TUNISIA      1.574625e+07\n",
       "AUSTRALIA    1.474802e+07\n",
       "Name: total_cost, dtype: float64"
      ]
     },
     "execution_count": 182,
     "metadata": {},
     "output_type": "execute_result"
    }
   ],
   "source": [
    "df.groupby('country')['total_cost'].mean().nlargest(5)"
   ]
  },
  {
   "cell_type": "markdown",
   "metadata": {},
   "source": [
    "**Which age group has the highest spenders?**\n",
    "\n",
    "Based on the data provided from the National Bureau of Statistics in Tanzania, the elderly (65 years old and above) tend to spend more on tourism than their younger counterparts."
   ]
  },
  {
   "cell_type": "code",
   "execution_count": 183,
   "metadata": {},
   "outputs": [
    {
     "data": {
      "text/plain": [
       "'65+'"
      ]
     },
     "execution_count": 183,
     "metadata": {},
     "output_type": "execute_result"
    }
   ],
   "source": [
    "df.groupby(\"age_group\")['total_cost'].mean().idxmax()"
   ]
  },
  {
   "cell_type": "markdown",
   "metadata": {},
   "source": [
    "**Who are the overall highest spenders by travel with?**\n",
    "\n",
    "Tourists who travel alone generally spend less than those who travel with others. Also, families who travel together i.e. Spouses and Children spend more in their tour to Tanzania"
   ]
  },
  {
   "cell_type": "code",
   "execution_count": 184,
   "metadata": {},
   "outputs": [
    {
     "data": {
      "image/png": "[encoded data removed]",
      "text/plain": [
       "<Figure size 720x504 with 1 Axes>"
      ]
     },
     "metadata": {
      "needs_background": "light"
     },
     "output_type": "display_data"
    }
   ],
   "source": [
    "fig = plt.figure(figsize =(10, 7))\n",
    "df.groupby(\"travel_with\")['total_cost'].mean().plot.bar(color = 'green')\n",
    "plt.xlabel(\"Tourist Groups and who they travelled with\")\n",
    "plt.ylabel(\"Total Cost\")\n",
    "plt.title(\"Distribution of highest spenders based on who they travel with\")\n",
    "plt.show()"
   ]
  },
  {
   "cell_type": "code",
   "execution_count": 185,
   "metadata": {},
   "outputs": [
    {
     "name": "stdout",
     "output_type": "stream",
     "text": [
      "The average number of nights spent by Tourists in Zanibar is 2.30 nights and 8.49 nights in mainland\n"
     ]
    }
   ],
   "source": [
    "#What is the average number of nights a tourist spends in Zanibar/Mainland?\n",
    "zanzibar = df['night_zanzibar'].mean()\n",
    "mainland = df['night_mainland'].mean()\n",
    "\n",
    "print (f\"The average number of nights spent by Tourists in Zanibar is {zanzibar:.2f} nights and {mainland:.2f} nights in mainland\")"
   ]
  },
  {
   "cell_type": "markdown",
   "metadata": {},
   "source": [
    "**What is the most preferred payment mode**\n",
    "\n",
    "Based on the analysis, most tourists still prefer to pay in cash than through other means provided. The second popular option among tourists is using credit card. The Travellers Cheque option is almost completely ignored."
   ]
  },
  {
   "cell_type": "code",
   "execution_count": 186,
   "metadata": {},
   "outputs": [
    {
     "data": {
      "text/plain": [
       "Cash                 4172\n",
       "Credit Card           622\n",
       "Other                   8\n",
       "Travellers Cheque       7\n",
       "Name: payment_mode, dtype: int64"
      ]
     },
     "execution_count": 186,
     "metadata": {},
     "output_type": "execute_result"
    }
   ],
   "source": [
    "#What is the most preferred payment mode by tourists\n",
    "df['payment_mode'].value_counts()"
   ]
  },
  {
   "cell_type": "markdown",
   "metadata": {},
   "source": [
    "**Which country has the most spending tourist?**\n",
    "\n",
    "Although Dominica has the average highest spending tourists, the tourist group that spent the most (as provided by this dataset) has residency in South Africa."
   ]
  },
  {
   "cell_type": "code",
   "execution_count": 187,
   "metadata": {},
   "outputs": [
    {
     "data": {
      "text/plain": [
       "3411    SOUTH AFRICA\n",
       "Name: country, dtype: object"
      ]
     },
     "execution_count": 187,
     "metadata": {},
     "output_type": "execute_result"
    }
   ],
   "source": [
    "df[df['total_cost'] == df['total_cost'].max()]['country']"
   ]
  },
  {
   "cell_type": "code",
   "execution_count": 188,
   "metadata": {},
   "outputs": [
    {
     "data": {
      "image/png": "[encoded data removed]",
      "text/plain": [
       "<Figure size 720x504 with 1 Axes>"
      ]
     },
     "metadata": {},
     "output_type": "display_data"
    }
   ],
   "source": [
    "#Most sought after food by tourists\n",
    "fig = plt.figure(figsize =(10, 7))\n",
    "df['package_food'].value_counts().plot(kind = 'pie',autopct = \"%.2f%%\", colors = ['grey','green'])\n",
    "plt.title(\"Packaged Food?\")\n",
    "plt.show()\n",
    "\n",
    "#Most Tourists did not opt for the packaged food plan"
   ]
  },
  {
   "cell_type": "markdown",
   "metadata": {},
   "source": [
    "**Highlight the aspects of tourism that are more profitable and worthwhile to invest in?**\n",
    "\n",
    "The most profitable activity among the main tour activities is Driving and Sport Fishing, followed by Wildlife tourism and Conference Tourism. Tourists who engaged in this activities paid over 100 million tanzianian shillings in total during their visit."
   ]
  },
  {
   "cell_type": "code",
   "execution_count": 189,
   "metadata": {},
   "outputs": [
    {
     "data": {
      "text/plain": [
       "main_activity\n",
       "Diving and Sport Fishing    1.709434e+07\n",
       "Wildlife tourism            1.059533e+07\n",
       "Conference tourism          1.030680e+07\n",
       "business                    8.125078e+06\n",
       "Beach tourism               7.524837e+06\n",
       "Bird watching               4.216563e+06\n",
       "Cultural tourism            3.991139e+06\n",
       "Hunting tourism             1.911327e+06\n",
       "Mountain climbing           1.862857e+06\n",
       "Name: total_cost, dtype: float64"
      ]
     },
     "execution_count": 189,
     "metadata": {},
     "output_type": "execute_result"
    }
   ],
   "source": [
    "df.groupby(\"main_activity\")['total_cost'].mean().nlargest(10)"
   ]
  },
  {
   "cell_type": "markdown",
   "metadata": {},
   "source": [
    "**Do tourists who opt for the tourism packages spend more than those who don't and which package influences costs most**\n",
    "\n",
    "While more tourists subscribe for individual tour (about 53%) than the package tour. Those who use the package tour tend to spend more than their individual counterparts. Each package avaliable (food, accomodation, sightseeing etc.) and the average amount generated shows that for each package, the average spending rate for the tourists typically increases with insurance and international transport at the top of the list."
   ]
  },
  {
   "cell_type": "code",
   "execution_count": 190,
   "metadata": {},
   "outputs": [
    {
     "data": {
      "text/plain": [
       "Independent     2570\n",
       "Package Tour    2239\n",
       "Name: tour_arrangement, dtype: int64"
      ]
     },
     "execution_count": 190,
     "metadata": {},
     "output_type": "execute_result"
    }
   ],
   "source": [
    "#Which tour arrangement do tourists typically spend more on?\n",
    "df['tour_arrangement'].value_counts()"
   ]
  },
  {
   "cell_type": "code",
   "execution_count": 192,
   "metadata": {},
   "outputs": [
    {
     "data": {
      "image/png": "[encoded data removed]",
      "text/plain": [
       "<Figure size 720x504 with 1 Axes>"
      ]
     },
     "metadata": {
      "needs_background": "light"
     },
     "output_type": "display_data"
    }
   ],
   "source": [
    "#Do tourists who opt for the tourism packages spend more than those who don't and which package influences costs most?\n",
    "def tourism_packages (package):\n",
    "    x = df.groupby([package])['total_cost'].mean()\n",
    "    return x\n",
    "\n",
    "new_df = pd.DataFrame()\n",
    "\n",
    "columns = ['package_transport_int', 'package_accomodation','package_food','package_transport_tz','package_sightseeing',\n",
    "          'package_guided_tour','package_insurance']\n",
    "\n",
    "dictionary = {}\n",
    "for i in columns:\n",
    "    dictionary[i] = tourism_packages(i).to_dict()\n",
    "\n",
    "packages = pd.DataFrame(dictionary)\n",
    "packages.rename(columns = {'package_transport_int':'International Transport', 'package_accomodation':'Accomodation',\n",
    "                          'package_food':'Food','package_transport_tz':'Transport', 'package_sightseeing':'Sightseeing',\n",
    "                          'package_guided_tour':'Tour Guide','package_insurance':'Insurance'}, inplace = True)\n",
    "packages = packages.T\n",
    "packages.plot.barh(color = ['grey','green'], figsize = (10,7))\n",
    "plt.show()"
   ]
  },
  {
   "cell_type": "markdown",
   "metadata": {},
   "source": [
    "**On average, do tourists spend more on their first trip?**\n",
    "\n",
    "Newcomer tourists (first-timers) tend to spend more than those who have toured in Tanzania before"
   ]
  },
  {
   "cell_type": "code",
   "execution_count": 193,
   "metadata": {},
   "outputs": [
    {
     "data": {
      "text/plain": [
       "first_trip_tz\n",
       "No     4.037669e+06\n",
       "Yes    1.008298e+07\n",
       "Name: total_cost, dtype: float64"
      ]
     },
     "execution_count": 193,
     "metadata": {},
     "output_type": "execute_result"
    }
   ],
   "source": [
    "df.groupby(\"first_trip_tz\")['total_cost'].mean()"
   ]
  },
  {
   "cell_type": "code",
   "execution_count": 194,
   "metadata": {},
   "outputs": [
    {
     "data": {
      "image/png": "[encoded data removed]",
      "text/plain": [
       "<Figure size 720x504 with 1 Axes>"
      ]
     },
     "metadata": {
      "needs_background": "light"
     },
     "output_type": "display_data"
    }
   ],
   "source": [
    "#What is the popular purpose for tourism and which has the highest average cost? -- Vacation (Leisure and Holidays)\n",
    "fig = plt.figure(figsize =(10, 7))\n",
    "df.groupby(\"purpose\")['total_cost'].mean().plot(kind='bar', color='green')\n",
    "plt.xlabel(\"Purpose\");"
   ]
  },
  {
   "cell_type": "markdown",
   "metadata": {},
   "source": [
    "## Data Preprocessing"
   ]
  },
  {
   "cell_type": "markdown",
   "metadata": {},
   "source": [
    "#### Treating Missing Values\n",
    "\n",
    "The data is explored to check if it contains missing values. It is observed that the Travel With, Most Impressing, Total Female and Total Male columns have missing entries. While the Travel with column might be significant for predictive analysis. The total number of missing values contained in the column is too much. The travel with and most impressing columns are dropped. \n",
    "\n",
    "An histogram is plotted to see the distribution of the Total Male and Total Female columns. It is observed that the distribution of the data is rightly skewed so a Mean imputation would be inappropriate. Because of this, the missing values are replaced with the median in the columns."
   ]
  },
  {
   "cell_type": "code",
   "execution_count": 196,
   "metadata": {},
   "outputs": [
    {
     "data": {
      "text/plain": [
       "ID                          0\n",
       "country                     0\n",
       "age_group                   0\n",
       "travel_with              1114\n",
       "total_female                3\n",
       "total_male                  5\n",
       "purpose                     0\n",
       "main_activity               0\n",
       "info_source                 0\n",
       "tour_arrangement            0\n",
       "package_transport_int       0\n",
       "package_accomodation        0\n",
       "package_food                0\n",
       "package_transport_tz        0\n",
       "package_sightseeing         0\n",
       "package_guided_tour         0\n",
       "package_insurance           0\n",
       "night_mainland              0\n",
       "night_zanzibar              0\n",
       "payment_mode                0\n",
       "first_trip_tz               0\n",
       "most_impressing           313\n",
       "total_cost                  0\n",
       "dtype: int64"
      ]
     },
     "execution_count": 196,
     "metadata": {},
     "output_type": "execute_result"
    }
   ],
   "source": [
    "df.isnull().sum()"
   ]
  },
  {
   "cell_type": "code",
   "execution_count": 197,
   "metadata": {},
   "outputs": [
    {
     "data": {
      "text/plain": [
       "ID                         0\n",
       "country                    0\n",
       "age_group                  0\n",
       "travel_with              327\n",
       "total_female               1\n",
       "total_male                 2\n",
       "purpose                    0\n",
       "main_activity              0\n",
       "info_source                0\n",
       "tour_arrangement           0\n",
       "package_transport_int      0\n",
       "package_accomodation       0\n",
       "package_food               0\n",
       "package_transport_tz       0\n",
       "package_sightseeing        0\n",
       "package_guided_tour        0\n",
       "package_insurance          0\n",
       "night_mainland             0\n",
       "night_zanzibar             0\n",
       "payment_mode               0\n",
       "first_trip_tz              0\n",
       "most_impressing          111\n",
       "dtype: int64"
      ]
     },
     "execution_count": 197,
     "metadata": {},
     "output_type": "execute_result"
    }
   ],
   "source": [
    "df_test.isnull().sum()"
   ]
  },
  {
   "cell_type": "code",
   "execution_count": 198,
   "metadata": {},
   "outputs": [],
   "source": [
    "def replace (df, col):\n",
    "    replacement = 'N/A'\n",
    "    df[col] = df[col].fillna(replacement)\n",
    "\n",
    "replace(df, 'travel_with')\n",
    "replace(df_test, 'travel_with')\n",
    "replace(df, 'most_impressing')\n",
    "replace(df_test, 'most_impressing')"
   ]
  },
  {
   "cell_type": "code",
   "execution_count": 199,
   "metadata": {},
   "outputs": [
    {
     "data": {
      "image/png": "[encoded data removed]",
      "text/plain": [
       "<Figure size 432x288 with 1 Axes>"
      ]
     },
     "metadata": {
      "needs_background": "light"
     },
     "output_type": "display_data"
    }
   ],
   "source": [
    "df['total_female'].plot(kind='hist', color='green');"
   ]
  },
  {
   "cell_type": "code",
   "execution_count": 200,
   "metadata": {},
   "outputs": [
    {
     "data": {
      "image/png": "[encoded data removed]",
      "text/plain": [
       "<Figure size 432x288 with 1 Axes>"
      ]
     },
     "metadata": {
      "needs_background": "light"
     },
     "output_type": "display_data"
    }
   ],
   "source": [
    "df['total_male'].plot(kind='hist',color='green');"
   ]
  },
  {
   "cell_type": "code",
   "execution_count": 201,
   "metadata": {},
   "outputs": [],
   "source": [
    "def fill_in(df, variable):\n",
    "    med = df[variable].median()\n",
    "    df[variable] = df[variable].fillna(med)\n",
    "\n",
    "fill_in(df, \"total_male\")\n",
    "fill_in(df, \"total_female\")\n",
    "fill_in(df_test, \"total_male\")\n",
    "fill_in(df_test, \"total_female\")"
   ]
  },
  {
   "cell_type": "code",
   "execution_count": 202,
   "metadata": {},
   "outputs": [
    {
     "name": "stdout",
     "output_type": "stream",
     "text": [
      "There are 0 missing values in df\n",
      "There are 0 missing values in df_test\n"
     ]
    }
   ],
   "source": [
    "print (\"There are {} missing values in df\".format(df.isnull().sum().sum()))\n",
    "print (\"There are {} missing values in df_test\".format(df_test.isnull().sum().sum()))"
   ]
  },
  {
   "cell_type": "code",
   "execution_count": 203,
   "metadata": {},
   "outputs": [
    {
     "data": {
      "text/html": [
       "<div>\n",
       "<style scoped>\n",
       "    .dataframe tbody tr th:only-of-type {\n",
       "        vertical-align: middle;\n",
       "    }\n",
       "\n",
       "    .dataframe tbody tr th {\n",
       "        vertical-align: top;\n",
       "    }\n",
       "\n",
       "    .dataframe thead th {\n",
       "        text-align: right;\n",
       "    }\n",
       "</style>\n",
       "<table border=\"1\" class=\"dataframe\">\n",
       "  <thead>\n",
       "    <tr style=\"text-align: right;\">\n",
       "      <th></th>\n",
       "      <th>total_male</th>\n",
       "      <th>total_female</th>\n",
       "      <th>night_mainland</th>\n",
       "      <th>night_zanzibar</th>\n",
       "      <th>total_cost</th>\n",
       "    </tr>\n",
       "  </thead>\n",
       "  <tbody>\n",
       "    <tr>\n",
       "      <th>total_male</th>\n",
       "      <td>1.000000</td>\n",
       "      <td>0.466985</td>\n",
       "      <td>-0.041957</td>\n",
       "      <td>0.050315</td>\n",
       "      <td>0.184657</td>\n",
       "    </tr>\n",
       "    <tr>\n",
       "      <th>total_female</th>\n",
       "      <td>0.466985</td>\n",
       "      <td>1.000000</td>\n",
       "      <td>0.031205</td>\n",
       "      <td>0.138541</td>\n",
       "      <td>0.286058</td>\n",
       "    </tr>\n",
       "    <tr>\n",
       "      <th>night_mainland</th>\n",
       "      <td>-0.041957</td>\n",
       "      <td>0.031205</td>\n",
       "      <td>1.000000</td>\n",
       "      <td>-0.118155</td>\n",
       "      <td>0.020473</td>\n",
       "    </tr>\n",
       "    <tr>\n",
       "      <th>night_zanzibar</th>\n",
       "      <td>0.050315</td>\n",
       "      <td>0.138541</td>\n",
       "      <td>-0.118155</td>\n",
       "      <td>1.000000</td>\n",
       "      <td>0.145139</td>\n",
       "    </tr>\n",
       "    <tr>\n",
       "      <th>total_cost</th>\n",
       "      <td>0.184657</td>\n",
       "      <td>0.286058</td>\n",
       "      <td>0.020473</td>\n",
       "      <td>0.145139</td>\n",
       "      <td>1.000000</td>\n",
       "    </tr>\n",
       "  </tbody>\n",
       "</table>\n",
       "</div>"
      ],
      "text/plain": [
       "                total_male  total_female  night_mainland  night_zanzibar  \\\n",
       "total_male        1.000000      0.466985       -0.041957        0.050315   \n",
       "total_female      0.466985      1.000000        0.031205        0.138541   \n",
       "night_mainland   -0.041957      0.031205        1.000000       -0.118155   \n",
       "night_zanzibar    0.050315      0.138541       -0.118155        1.000000   \n",
       "total_cost        0.184657      0.286058        0.020473        0.145139   \n",
       "\n",
       "                total_cost  \n",
       "total_male        0.184657  \n",
       "total_female      0.286058  \n",
       "night_mainland    0.020473  \n",
       "night_zanzibar    0.145139  \n",
       "total_cost        1.000000  "
      ]
     },
     "metadata": {},
     "output_type": "display_data"
    },
    {
     "data": {
      "text/plain": [
       "<matplotlib.axes._subplots.AxesSubplot at 0x2268f64f388>"
      ]
     },
     "execution_count": 203,
     "metadata": {},
     "output_type": "execute_result"
    },
    {
     "data": {
      "image/png": "[encoded data removed]",
      "text/plain": [
       "<Figure size 432x288 with 2 Axes>"
      ]
     },
     "metadata": {
      "needs_background": "light"
     },
     "output_type": "display_data"
    }
   ],
   "source": [
    "quantitative = df[['total_male','total_female','night_mainland','night_zanzibar','total_cost']]\n",
    "display(quantitative.corr())\n",
    "sns.heatmap(quantitative.corr())\n",
    "#For the purpose of Feature of Extraction, we test the correlation between each independent variable and the \n",
    "#dependent variable, total cost"
   ]
  },
  {
   "cell_type": "markdown",
   "metadata": {},
   "source": [
    "#### Data Types\n",
    "\n",
    "There is a need for some minor adjustments to the data types. The Total_Female and Total_Male, Night_Mainland and Night_Zanzibar columns should be integers and not floats. Similarly, some columns should also be categorical, not objects. The ID column is dropped because it is not relevant to prediction (or analysis). Also, since there are 105 unique countries, the country column is also dropped before predictive analysis is done. It should be noted that a Linear Regression Model cannot work with Qualitative Data. Hence, the categorical columns are transformed using Pandas Cat Codes Method."
   ]
  },
  {
   "cell_type": "code",
   "execution_count": 204,
   "metadata": {},
   "outputs": [
    {
     "data": {
      "text/plain": [
       "ID                        object\n",
       "country                   object\n",
       "age_group                 object\n",
       "travel_with               object\n",
       "total_female             float64\n",
       "total_male               float64\n",
       "purpose                   object\n",
       "main_activity             object\n",
       "info_source               object\n",
       "tour_arrangement          object\n",
       "package_transport_int     object\n",
       "package_accomodation      object\n",
       "package_food              object\n",
       "package_transport_tz      object\n",
       "package_sightseeing       object\n",
       "package_guided_tour       object\n",
       "package_insurance         object\n",
       "night_mainland           float64\n",
       "night_zanzibar           float64\n",
       "payment_mode              object\n",
       "first_trip_tz             object\n",
       "most_impressing           object\n",
       "total_cost               float64\n",
       "dtype: object"
      ]
     },
     "execution_count": 204,
     "metadata": {},
     "output_type": "execute_result"
    }
   ],
   "source": [
    "df.dtypes"
   ]
  },
  {
   "cell_type": "code",
   "execution_count": 205,
   "metadata": {},
   "outputs": [],
   "source": [
    "quantitative = ['total_male', 'total_female','night_mainland','night_zanzibar']\n",
    "\n",
    "for i in quantitative:\n",
    "    df[i] = df[i].astype(\"int\")\n",
    "    df_test[i] = df_test[i].astype(\"int\")"
   ]
  },
  {
   "cell_type": "code",
   "execution_count": 206,
   "metadata": {},
   "outputs": [
    {
     "data": {
      "text/plain": [
       "<seaborn.axisgrid.PairGrid at 0x2268f645fc8>"
      ]
     },
     "execution_count": 206,
     "metadata": {},
     "output_type": "execute_result"
    },
    {
     "data": {
      "image/png": "[encoded data removed]",
      "text/plain": [
       "<Figure size 720x720 with 20 Axes>"
      ]
     },
     "metadata": {
      "needs_background": "light"
     },
     "output_type": "display_data"
    }
   ],
   "source": [
    "sns.pairplot(df[quantitative])"
   ]
  },
  {
   "cell_type": "code",
   "execution_count": 207,
   "metadata": {},
   "outputs": [],
   "source": [
    "categorical = ['age_group','purpose','main_activity','info_source','tour_arrangement','package_transport_int','package_accomodation',\n",
    "              'package_food','package_transport_tz','package_sightseeing','package_guided_tour','package_insurance','payment_mode',\n",
    "              'first_trip_tz','country','travel_with','most_impressing']\n",
    "\n",
    "for i in categorical:\n",
    "    df[i] = df[i].astype(\"category\")\n",
    "    df_test[i] = df_test[i].astype(\"category\")\n",
    "\n",
    "for i in categorical:\n",
    "    df[i] = df[i].cat.codes\n",
    "    df_test[i] = df_test[i].cat.codes"
   ]
  },
  {
   "cell_type": "code",
   "execution_count": 208,
   "metadata": {},
   "outputs": [],
   "source": [
    "dummies_cols = ['purpose','main_activity','info_source','tour_arrangement','payment_mode', 'travel_with','most_impressing']\n",
    "df = pd.get_dummies(df,columns = dummies_cols,drop_first=True)\n",
    "df_test = pd.get_dummies(df_test,columns = dummies_cols,drop_first=True)"
   ]
  },
  {
   "cell_type": "code",
   "execution_count": 209,
   "metadata": {},
   "outputs": [
    {
     "data": {
      "text/plain": [
       "ID                        object\n",
       "country                     int8\n",
       "age_group                   int8\n",
       "total_female               int32\n",
       "total_male                 int32\n",
       "package_transport_int       int8\n",
       "package_accomodation        int8\n",
       "package_food                int8\n",
       "package_transport_tz        int8\n",
       "package_sightseeing         int8\n",
       "package_guided_tour         int8\n",
       "package_insurance           int8\n",
       "night_mainland             int32\n",
       "night_zanzibar             int32\n",
       "first_trip_tz               int8\n",
       "total_cost               float64\n",
       "purpose_1                  uint8\n",
       "purpose_2                  uint8\n",
       "purpose_3                  uint8\n",
       "purpose_4                  uint8\n",
       "purpose_5                  uint8\n",
       "purpose_6                  uint8\n",
       "main_activity_1            uint8\n",
       "main_activity_2            uint8\n",
       "main_activity_3            uint8\n",
       "main_activity_4            uint8\n",
       "main_activity_5            uint8\n",
       "main_activity_6            uint8\n",
       "main_activity_7            uint8\n",
       "main_activity_8            uint8\n",
       "info_source_1              uint8\n",
       "info_source_2              uint8\n",
       "info_source_3              uint8\n",
       "info_source_4              uint8\n",
       "info_source_5              uint8\n",
       "info_source_6              uint8\n",
       "info_source_7              uint8\n",
       "tour_arrangement_1         uint8\n",
       "payment_mode_1             uint8\n",
       "payment_mode_2             uint8\n",
       "payment_mode_3             uint8\n",
       "travel_with_1              uint8\n",
       "travel_with_2              uint8\n",
       "travel_with_3              uint8\n",
       "travel_with_4              uint8\n",
       "travel_with_5              uint8\n",
       "most_impressing_1          uint8\n",
       "most_impressing_2          uint8\n",
       "most_impressing_3          uint8\n",
       "most_impressing_4          uint8\n",
       "most_impressing_5          uint8\n",
       "most_impressing_6          uint8\n",
       "most_impressing_7          uint8\n",
       "dtype: object"
      ]
     },
     "execution_count": 209,
     "metadata": {},
     "output_type": "execute_result"
    }
   ],
   "source": [
    "df.dtypes"
   ]
  },
  {
   "cell_type": "code",
   "execution_count": 210,
   "metadata": {},
   "outputs": [
    {
     "data": {
      "text/html": [
       "<div>\n",
       "<style scoped>\n",
       "    .dataframe tbody tr th:only-of-type {\n",
       "        vertical-align: middle;\n",
       "    }\n",
       "\n",
       "    .dataframe tbody tr th {\n",
       "        vertical-align: top;\n",
       "    }\n",
       "\n",
       "    .dataframe thead th {\n",
       "        text-align: right;\n",
       "    }\n",
       "</style>\n",
       "<table border=\"1\" class=\"dataframe\">\n",
       "  <thead>\n",
       "    <tr style=\"text-align: right;\">\n",
       "      <th></th>\n",
       "      <th>ID</th>\n",
       "      <th>country</th>\n",
       "      <th>age_group</th>\n",
       "      <th>total_female</th>\n",
       "      <th>total_male</th>\n",
       "      <th>package_transport_int</th>\n",
       "      <th>package_accomodation</th>\n",
       "      <th>package_food</th>\n",
       "      <th>package_transport_tz</th>\n",
       "      <th>package_sightseeing</th>\n",
       "      <th>...</th>\n",
       "      <th>travel_with_3</th>\n",
       "      <th>travel_with_4</th>\n",
       "      <th>travel_with_5</th>\n",
       "      <th>most_impressing_1</th>\n",
       "      <th>most_impressing_2</th>\n",
       "      <th>most_impressing_3</th>\n",
       "      <th>most_impressing_4</th>\n",
       "      <th>most_impressing_5</th>\n",
       "      <th>most_impressing_6</th>\n",
       "      <th>most_impressing_7</th>\n",
       "    </tr>\n",
       "  </thead>\n",
       "  <tbody>\n",
       "    <tr>\n",
       "      <th>0</th>\n",
       "      <td>tour_0</td>\n",
       "      <td>89</td>\n",
       "      <td>2</td>\n",
       "      <td>1</td>\n",
       "      <td>1</td>\n",
       "      <td>0</td>\n",
       "      <td>0</td>\n",
       "      <td>0</td>\n",
       "      <td>0</td>\n",
       "      <td>0</td>\n",
       "      <td>...</td>\n",
       "      <td>0</td>\n",
       "      <td>0</td>\n",
       "      <td>0</td>\n",
       "      <td>0</td>\n",
       "      <td>1</td>\n",
       "      <td>0</td>\n",
       "      <td>0</td>\n",
       "      <td>0</td>\n",
       "      <td>0</td>\n",
       "      <td>0</td>\n",
       "    </tr>\n",
       "    <tr>\n",
       "      <th>1</th>\n",
       "      <td>tour_10</td>\n",
       "      <td>99</td>\n",
       "      <td>1</td>\n",
       "      <td>1</td>\n",
       "      <td>0</td>\n",
       "      <td>0</td>\n",
       "      <td>0</td>\n",
       "      <td>0</td>\n",
       "      <td>0</td>\n",
       "      <td>0</td>\n",
       "      <td>...</td>\n",
       "      <td>1</td>\n",
       "      <td>0</td>\n",
       "      <td>0</td>\n",
       "      <td>0</td>\n",
       "      <td>0</td>\n",
       "      <td>0</td>\n",
       "      <td>0</td>\n",
       "      <td>0</td>\n",
       "      <td>0</td>\n",
       "      <td>1</td>\n",
       "    </tr>\n",
       "    <tr>\n",
       "      <th>2</th>\n",
       "      <td>tour_1000</td>\n",
       "      <td>99</td>\n",
       "      <td>1</td>\n",
       "      <td>0</td>\n",
       "      <td>1</td>\n",
       "      <td>0</td>\n",
       "      <td>0</td>\n",
       "      <td>0</td>\n",
       "      <td>0</td>\n",
       "      <td>0</td>\n",
       "      <td>...</td>\n",
       "      <td>0</td>\n",
       "      <td>0</td>\n",
       "      <td>0</td>\n",
       "      <td>1</td>\n",
       "      <td>0</td>\n",
       "      <td>0</td>\n",
       "      <td>0</td>\n",
       "      <td>0</td>\n",
       "      <td>0</td>\n",
       "      <td>0</td>\n",
       "    </tr>\n",
       "    <tr>\n",
       "      <th>3</th>\n",
       "      <td>tour_1002</td>\n",
       "      <td>99</td>\n",
       "      <td>1</td>\n",
       "      <td>1</td>\n",
       "      <td>1</td>\n",
       "      <td>0</td>\n",
       "      <td>1</td>\n",
       "      <td>1</td>\n",
       "      <td>1</td>\n",
       "      <td>1</td>\n",
       "      <td>...</td>\n",
       "      <td>0</td>\n",
       "      <td>1</td>\n",
       "      <td>0</td>\n",
       "      <td>0</td>\n",
       "      <td>1</td>\n",
       "      <td>0</td>\n",
       "      <td>0</td>\n",
       "      <td>0</td>\n",
       "      <td>0</td>\n",
       "      <td>0</td>\n",
       "    </tr>\n",
       "    <tr>\n",
       "      <th>4</th>\n",
       "      <td>tour_1004</td>\n",
       "      <td>13</td>\n",
       "      <td>0</td>\n",
       "      <td>1</td>\n",
       "      <td>0</td>\n",
       "      <td>0</td>\n",
       "      <td>0</td>\n",
       "      <td>0</td>\n",
       "      <td>0</td>\n",
       "      <td>0</td>\n",
       "      <td>...</td>\n",
       "      <td>1</td>\n",
       "      <td>0</td>\n",
       "      <td>0</td>\n",
       "      <td>0</td>\n",
       "      <td>0</td>\n",
       "      <td>0</td>\n",
       "      <td>0</td>\n",
       "      <td>1</td>\n",
       "      <td>0</td>\n",
       "      <td>0</td>\n",
       "    </tr>\n",
       "  </tbody>\n",
       "</table>\n",
       "<p>5 rows × 53 columns</p>\n",
       "</div>"
      ],
      "text/plain": [
       "          ID  country  age_group  total_female  total_male  \\\n",
       "0     tour_0       89          2             1           1   \n",
       "1    tour_10       99          1             1           0   \n",
       "2  tour_1000       99          1             0           1   \n",
       "3  tour_1002       99          1             1           1   \n",
       "4  tour_1004       13          0             1           0   \n",
       "\n",
       "   package_transport_int  package_accomodation  package_food  \\\n",
       "0                      0                     0             0   \n",
       "1                      0                     0             0   \n",
       "2                      0                     0             0   \n",
       "3                      0                     1             1   \n",
       "4                      0                     0             0   \n",
       "\n",
       "   package_transport_tz  package_sightseeing  ...  travel_with_3  \\\n",
       "0                     0                    0  ...              0   \n",
       "1                     0                    0  ...              1   \n",
       "2                     0                    0  ...              0   \n",
       "3                     1                    1  ...              0   \n",
       "4                     0                    0  ...              1   \n",
       "\n",
       "   travel_with_4  travel_with_5  most_impressing_1  most_impressing_2  \\\n",
       "0              0              0                  0                  1   \n",
       "1              0              0                  0                  0   \n",
       "2              0              0                  1                  0   \n",
       "3              1              0                  0                  1   \n",
       "4              0              0                  0                  0   \n",
       "\n",
       "   most_impressing_3  most_impressing_4  most_impressing_5  most_impressing_6  \\\n",
       "0                  0                  0                  0                  0   \n",
       "1                  0                  0                  0                  0   \n",
       "2                  0                  0                  0                  0   \n",
       "3                  0                  0                  0                  0   \n",
       "4                  0                  0                  1                  0   \n",
       "\n",
       "   most_impressing_7  \n",
       "0                  0  \n",
       "1                  1  \n",
       "2                  0  \n",
       "3                  0  \n",
       "4                  0  \n",
       "\n",
       "[5 rows x 53 columns]"
      ]
     },
     "execution_count": 210,
     "metadata": {},
     "output_type": "execute_result"
    }
   ],
   "source": [
    "df.head()"
   ]
  },
  {
   "cell_type": "code",
   "execution_count": 211,
   "metadata": {},
   "outputs": [
    {
     "data": {
      "text/plain": [
       "ID                        object\n",
       "country                     int8\n",
       "age_group                   int8\n",
       "total_female               int32\n",
       "total_male                 int32\n",
       "package_transport_int       int8\n",
       "package_accomodation        int8\n",
       "package_food                int8\n",
       "package_transport_tz        int8\n",
       "package_sightseeing         int8\n",
       "package_guided_tour         int8\n",
       "package_insurance           int8\n",
       "night_mainland             int32\n",
       "night_zanzibar             int32\n",
       "first_trip_tz               int8\n",
       "total_cost               float64\n",
       "purpose_1                  uint8\n",
       "purpose_2                  uint8\n",
       "purpose_3                  uint8\n",
       "purpose_4                  uint8\n",
       "purpose_5                  uint8\n",
       "purpose_6                  uint8\n",
       "main_activity_1            uint8\n",
       "main_activity_2            uint8\n",
       "main_activity_3            uint8\n",
       "main_activity_4            uint8\n",
       "main_activity_5            uint8\n",
       "main_activity_6            uint8\n",
       "main_activity_7            uint8\n",
       "main_activity_8            uint8\n",
       "info_source_1              uint8\n",
       "info_source_2              uint8\n",
       "info_source_3              uint8\n",
       "info_source_4              uint8\n",
       "info_source_5              uint8\n",
       "info_source_6              uint8\n",
       "info_source_7              uint8\n",
       "tour_arrangement_1         uint8\n",
       "payment_mode_1             uint8\n",
       "payment_mode_2             uint8\n",
       "payment_mode_3             uint8\n",
       "travel_with_1              uint8\n",
       "travel_with_2              uint8\n",
       "travel_with_3              uint8\n",
       "travel_with_4              uint8\n",
       "travel_with_5              uint8\n",
       "most_impressing_1          uint8\n",
       "most_impressing_2          uint8\n",
       "most_impressing_3          uint8\n",
       "most_impressing_4          uint8\n",
       "most_impressing_5          uint8\n",
       "most_impressing_6          uint8\n",
       "most_impressing_7          uint8\n",
       "dtype: object"
      ]
     },
     "execution_count": 211,
     "metadata": {},
     "output_type": "execute_result"
    }
   ],
   "source": [
    "df.dtypes"
   ]
  },
  {
   "cell_type": "code",
   "execution_count": 212,
   "metadata": {},
   "outputs": [],
   "source": [
    "df['total_people'] = df['total_female'] + df['total_male']\n",
    "df['total_nights'] = df['night_zanzibar'] + df['night_mainland']"
   ]
  },
  {
   "cell_type": "code",
   "execution_count": 213,
   "metadata": {},
   "outputs": [],
   "source": [
    "df_test['total_people'] = df_test['total_female'] + df_test['total_male']\n",
    "df_test['total_nights'] = df_test['night_zanzibar'] + df_test['night_mainland']"
   ]
  },
  {
   "cell_type": "code",
   "execution_count": 214,
   "metadata": {},
   "outputs": [],
   "source": [
    "X = df.drop(['total_cost','ID'],1)\n",
    "y = df['total_cost']"
   ]
  },
  {
   "cell_type": "code",
   "execution_count": 215,
   "metadata": {},
   "outputs": [],
   "source": [
    "X_train, X_test, y_train, y_test = train_test_split (X,y,test_size=0.25, random_state=42)"
   ]
  },
  {
   "cell_type": "code",
   "execution_count": 216,
   "metadata": {},
   "outputs": [],
   "source": [
    "scaler = RobustScaler()\n",
    "X_train = scaler.fit_transform(X_train)\n",
    "X_test = scaler.transform(X_test)"
   ]
  },
  {
   "cell_type": "code",
   "execution_count": 217,
   "metadata": {},
   "outputs": [
    {
     "name": "stdout",
     "output_type": "stream",
     "text": [
      "                            OLS Regression Results                            \n",
      "==============================================================================\n",
      "Dep. Variable:             total_cost   R-squared:                       0.354\n",
      "Model:                            OLS   Adj. R-squared:                  0.345\n",
      "Method:                 Least Squares   F-statistic:                     38.24\n",
      "Date:                Sun, 05 Jun 2022   Prob (F-statistic):          3.54e-294\n",
      "Time:                        21:40:27   Log-Likelihood:                -63192.\n",
      "No. Observations:                3606   AIC:                         1.265e+05\n",
      "Df Residuals:                    3554   BIC:                         1.268e+05\n",
      "Df Model:                          51                                         \n",
      "Covariance Type:            nonrobust                                         \n",
      "==============================================================================\n",
      "                 coef    std err          t      P>|t|      [0.025      0.975]\n",
      "------------------------------------------------------------------------------\n",
      "x1          5.488e+05   3.24e+05      1.692      0.091   -8.72e+04    1.18e+06\n",
      "x2          1.649e+06   2.42e+05      6.822      0.000    1.18e+06    2.12e+06\n",
      "x3          4.641e+05   1.39e+05      3.330      0.001    1.91e+05    7.37e+05\n",
      "x4         -1.479e+04   1.45e+05     -0.102      0.919   -2.99e+05    2.69e+05\n",
      "x5          4.066e+06   5.46e+05      7.448      0.000       3e+06    5.14e+06\n",
      "x6          8.206e+05   1.48e+06      0.556      0.578   -2.07e+06    3.71e+06\n",
      "x7          1.228e+06   9.33e+05      1.315      0.188   -6.02e+05    3.06e+06\n",
      "x8          1.476e+06   7.11e+05      2.074      0.038    8.08e+04    2.87e+06\n",
      "x9          1.834e+06   6.47e+05      2.834      0.005    5.65e+05     3.1e+06\n",
      "x10        -2.925e+05   6.62e+05     -0.442      0.659   -1.59e+06    1.01e+06\n",
      "x11         1.684e+05   5.61e+05      0.300      0.764   -9.31e+05    1.27e+06\n",
      "x12          3.35e+06   2.97e+06      1.127      0.260   -2.48e+06    9.17e+06\n",
      "x13         2.022e+06   1.45e+06      1.396      0.163   -8.18e+05    4.86e+06\n",
      "x14         4.804e+05   4.27e+05      1.126      0.260   -3.56e+05    1.32e+06\n",
      "x15         1.033e+06   6.84e+05      1.511      0.131   -3.08e+05    2.37e+06\n",
      "x16        -8.337e+05   9.43e+05     -0.884      0.377   -2.68e+06    1.01e+06\n",
      "x17         7.434e+05   1.21e+06      0.612      0.540   -1.64e+06    3.12e+06\n",
      "x18        -1.343e+06   1.45e+06     -0.928      0.353   -4.18e+06    1.49e+06\n",
      "x19         6.488e+05   7.56e+05      0.859      0.391   -8.33e+05    2.13e+06\n",
      "x20          2.22e+05   1.22e+06      0.182      0.856   -2.17e+06    2.62e+06\n",
      "x21        -6.678e+05   2.14e+06     -0.313      0.755   -4.86e+06    3.52e+06\n",
      "x22         1.501e+06    8.1e+05      1.852      0.064    -8.8e+04    3.09e+06\n",
      "x23        -8.051e+05   7.24e+05     -1.112      0.266   -2.22e+06    6.14e+05\n",
      "x24          8.18e+06   2.84e+06      2.879      0.004    2.61e+06    1.38e+07\n",
      "x25         2.666e+05    7.7e+05      0.346      0.729   -1.24e+06    1.78e+06\n",
      "x26          2.63e+05   1.07e+06      0.246      0.806   -1.83e+06    2.36e+06\n",
      "x27         1.585e+06   5.08e+05      3.120      0.002    5.89e+05    2.58e+06\n",
      "x28        -1.666e+06    1.5e+06     -1.108      0.268   -4.61e+06    1.28e+06\n",
      "x29        -1.214e+05   6.81e+05     -0.178      0.858   -1.46e+06    1.21e+06\n",
      "x30        -2.402e+05   8.02e+05     -0.299      0.765   -1.81e+06    1.33e+06\n",
      "x31        -1.583e+06   1.53e+06     -1.037      0.300   -4.58e+06    1.41e+06\n",
      "x32         3.277e+06   1.44e+06      2.278      0.023    4.56e+05     6.1e+06\n",
      "x33         8.148e+05   4.91e+05      1.660      0.097   -1.47e+05    1.78e+06\n",
      "x34        -5.075e+05    2.6e+06     -0.195      0.845   -5.61e+06    4.59e+06\n",
      "x35          7.12e+04   6.12e+05      0.116      0.907   -1.13e+06    1.27e+06\n",
      "x36         1.258e+06   1.44e+06      0.876      0.381   -1.56e+06    4.07e+06\n",
      "x37         2.327e+06      5e+05      4.652      0.000    1.35e+06    3.31e+06\n",
      "x38        -2.212e+06   4.47e+06     -0.495      0.621    -1.1e+07    6.55e+06\n",
      "x39         7.483e+06   3.85e+06      1.944      0.052   -6.27e+04     1.5e+07\n",
      "x40         1.386e+06   9.81e+05      1.413      0.158   -5.37e+05    3.31e+06\n",
      "x41         2.563e+06   5.57e+05      4.605      0.000    1.47e+06    3.65e+06\n",
      "x42         1.928e+05   4.88e+05      0.395      0.693   -7.64e+05    1.15e+06\n",
      "x43         2.369e+06   5.65e+05      4.193      0.000    1.26e+06    3.48e+06\n",
      "x44         6.553e+06   7.81e+05      8.392      0.000    5.02e+06    8.08e+06\n",
      "x45        -8.617e+05   8.07e+05     -1.068      0.285   -2.44e+06     7.2e+05\n",
      "x46          7.29e+05   4.85e+05      1.503      0.133   -2.22e+05    1.68e+06\n",
      "x47         8.173e+05   7.33e+05      1.114      0.265   -6.21e+05    2.26e+06\n",
      "x48        -5.722e+05   7.95e+05     -0.720      0.472   -2.13e+06    9.86e+05\n",
      "x49         4.914e+05   5.79e+05      0.848      0.396   -6.44e+05    1.63e+06\n",
      "x50        -1.068e+06   2.22e+06     -0.480      0.631   -5.43e+06    3.29e+06\n",
      "x51         2.652e+05   6.31e+05      0.421      0.674   -9.71e+05     1.5e+06\n",
      "x52         4.493e+05   5.74e+04      7.831      0.000    3.37e+05    5.62e+05\n",
      "x53        -3.279e+06   3.72e+06     -0.882      0.378   -1.06e+07    4.01e+06\n",
      "==============================================================================\n",
      "Omnibus:                     2429.441   Durbin-Watson:                   1.995\n",
      "Prob(Omnibus):                  0.000   Jarque-Bera (JB):            43911.134\n",
      "Skew:                           2.968   Prob(JB):                         0.00\n",
      "Kurtosis:                      19.032   Cond. No.                     1.57e+15\n",
      "==============================================================================\n",
      "\n",
      "Notes:\n",
      "[1] Standard Errors assume that the covariance matrix of the errors is correctly specified.\n",
      "[2] The smallest eigenvalue is 1.09e-26. This might indicate that there are\n",
      "strong multicollinearity problems or that the design matrix is singular.\n"
     ]
    }
   ],
   "source": [
    "import statsmodels.api as sm\n",
    "mod = sm.OLS(y_train,X_train)\n",
    "res = mod.fit()\n",
    "print (res.summary())"
   ]
  },
  {
   "cell_type": "raw",
   "metadata": {},
   "source": [
    "linearReg = LinearRegression()\n",
    "linearReg.fit(X_train,y_train)\n",
    "pred = linearReg.predict(X_test)\n",
    "mae = mean_absolute_error(pred,y_test)\n",
    "rmse = np.sqrt(mean_squared_error(pred,y_test))\n",
    "\n",
    "print (f\"The Mean Absolute Error is {mae:.0f}\")\n",
    "print (f\"The Root Mean Squared Error is {rmse:.0f}\")"
   ]
  },
  {
   "cell_type": "code",
   "execution_count": 218,
   "metadata": {},
   "outputs": [],
   "source": [
    "pred = res.predict(X_test)"
   ]
  },
  {
   "cell_type": "code",
   "execution_count": 219,
   "metadata": {},
   "outputs": [
    {
     "name": "stdout",
     "output_type": "stream",
     "text": [
      "The Mean Absolute Error is 5627882\n",
      "The Root Mean Squared Error is 9640520\n"
     ]
    }
   ],
   "source": [
    "mae = sm.tools.eval_measures.meanabs(y_test,pred)\n",
    "rmse = sm.tools.eval_measures.rmse(y_test,pred)\n",
    "\n",
    "print (f\"The Mean Absolute Error is {mae:.0f}\")\n",
    "print (f\"The Root Mean Squared Error is {rmse:.0f}\")"
   ]
  },
  {
   "cell_type": "code",
   "execution_count": 220,
   "metadata": {},
   "outputs": [
    {
     "data": {
      "text/html": [
       "<div>\n",
       "<style scoped>\n",
       "    .dataframe tbody tr th:only-of-type {\n",
       "        vertical-align: middle;\n",
       "    }\n",
       "\n",
       "    .dataframe tbody tr th {\n",
       "        vertical-align: top;\n",
       "    }\n",
       "\n",
       "    .dataframe thead th {\n",
       "        text-align: right;\n",
       "    }\n",
       "</style>\n",
       "<table border=\"1\" class=\"dataframe\">\n",
       "  <thead>\n",
       "    <tr style=\"text-align: right;\">\n",
       "      <th></th>\n",
       "      <th>ID</th>\n",
       "      <th>predictions</th>\n",
       "    </tr>\n",
       "  </thead>\n",
       "  <tbody>\n",
       "    <tr>\n",
       "      <th>0</th>\n",
       "      <td>tour_1</td>\n",
       "      <td>1.897356e+07</td>\n",
       "    </tr>\n",
       "    <tr>\n",
       "      <th>1</th>\n",
       "      <td>tour_100</td>\n",
       "      <td>5.169749e+07</td>\n",
       "    </tr>\n",
       "    <tr>\n",
       "      <th>2</th>\n",
       "      <td>tour_1001</td>\n",
       "      <td>5.646041e+06</td>\n",
       "    </tr>\n",
       "    <tr>\n",
       "      <th>3</th>\n",
       "      <td>tour_1006</td>\n",
       "      <td>6.359515e+06</td>\n",
       "    </tr>\n",
       "    <tr>\n",
       "      <th>4</th>\n",
       "      <td>tour_1009</td>\n",
       "      <td>6.639231e+07</td>\n",
       "    </tr>\n",
       "    <tr>\n",
       "      <th>...</th>\n",
       "      <td>...</td>\n",
       "      <td>...</td>\n",
       "    </tr>\n",
       "    <tr>\n",
       "      <th>1596</th>\n",
       "      <td>tour_988</td>\n",
       "      <td>4.608246e+07</td>\n",
       "    </tr>\n",
       "    <tr>\n",
       "      <th>1597</th>\n",
       "      <td>tour_990</td>\n",
       "      <td>3.525831e+07</td>\n",
       "    </tr>\n",
       "    <tr>\n",
       "      <th>1598</th>\n",
       "      <td>tour_992</td>\n",
       "      <td>1.608019e+07</td>\n",
       "    </tr>\n",
       "    <tr>\n",
       "      <th>1599</th>\n",
       "      <td>tour_996</td>\n",
       "      <td>3.961256e+07</td>\n",
       "    </tr>\n",
       "    <tr>\n",
       "      <th>1600</th>\n",
       "      <td>tour_998</td>\n",
       "      <td>3.933122e+07</td>\n",
       "    </tr>\n",
       "  </tbody>\n",
       "</table>\n",
       "<p>1601 rows × 2 columns</p>\n",
       "</div>"
      ],
      "text/plain": [
       "             ID   predictions\n",
       "0        tour_1  1.897356e+07\n",
       "1      tour_100  5.169749e+07\n",
       "2     tour_1001  5.646041e+06\n",
       "3     tour_1006  6.359515e+06\n",
       "4     tour_1009  6.639231e+07\n",
       "...         ...           ...\n",
       "1596   tour_988  4.608246e+07\n",
       "1597   tour_990  3.525831e+07\n",
       "1598   tour_992  1.608019e+07\n",
       "1599   tour_996  3.961256e+07\n",
       "1600   tour_998  3.933122e+07\n",
       "\n",
       "[1601 rows x 2 columns]"
      ]
     },
     "execution_count": 220,
     "metadata": {},
     "output_type": "execute_result"
    }
   ],
   "source": [
    "predTest = res.predict(df_test.drop(['ID'],1))\n",
    "new = pd.DataFrame(df_test['ID'], columns = ['ID'])\n",
    "new['predictions'] = predTest\n",
    "new"
   ]
  },
  {
   "cell_type": "code",
   "execution_count": 221,
   "metadata": {},
   "outputs": [
    {
     "data": {
      "image/png": "[encoded data removed]",
      "text/plain": [
       "<Figure size 432x288 with 1 Axes>"
      ]
     },
     "metadata": {
      "needs_background": "light"
     },
     "output_type": "display_data"
    }
   ],
   "source": [
    "#residuals = np.abs(y_test - pred)\n",
    "res.resid.plot.kde();\n",
    "\n",
    "#The KDE is rightly skewed."
   ]
  },
  {
   "cell_type": "code",
   "execution_count": 222,
   "metadata": {},
   "outputs": [
    {
     "data": {
      "image/png": "[encoded data removed]",
      "text/plain": [
       "<Figure size 432x288 with 1 Axes>"
      ]
     },
     "metadata": {
      "needs_background": "light"
     },
     "output_type": "display_data"
    }
   ],
   "source": [
    "sm.qqplot(res.resid, stats.t,fit=True,line='45');"
   ]
  }
 ],
 "metadata": {
  "kernelspec": {
   "display_name": "Python 3",
   "language": "python",
   "name": "python3"
  },
  "language_info": {
   "codemirror_mode": {
    "name": "ipython",
    "version": 3
   },
   "file_extension": ".py",
   "mimetype": "text/x-python",
   "name": "python",
   "nbconvert_exporter": "python",
   "pygments_lexer": "ipython3",
   "version": "3.7.4"
  }
 },
 "nbformat": 4,
 "nbformat_minor": 2
}
